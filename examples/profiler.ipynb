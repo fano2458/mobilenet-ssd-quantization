{
 "cells": [
  {
   "cell_type": "code",
   "execution_count": 1,
   "metadata": {},
   "outputs": [],
   "source": [
    "import torch\n",
    "from torch.profiler import profile, record_function, ProfilerActivity"
   ]
  },
  {
   "cell_type": "code",
   "execution_count": 2,
   "metadata": {},
   "outputs": [],
   "source": [
    "inputs = torch.randn(1, 3, 300, 300)"
   ]
  },
  {
   "cell_type": "code",
   "execution_count": null,
   "metadata": {},
   "outputs": [],
   "source": [
    "model = torch.jit.load(\"path_to_model\").eval()"
   ]
  },
  {
   "cell_type": "code",
   "execution_count": 29,
   "metadata": {},
   "outputs": [
    {
     "name": "stderr",
     "output_type": "stream",
     "text": [
      "STAGE:2024-11-20 10:19:31 75929:75929 ActivityProfilerController.cpp:314] Completed Stage: Warm Up\n",
      "STAGE:2024-11-20 10:19:31 75929:75929 ActivityProfilerController.cpp:320] Completed Stage: Collection\n",
      "STAGE:2024-11-20 10:19:31 75929:75929 ActivityProfilerController.cpp:324] Completed Stage: Post Processing\n"
     ]
    }
   ],
   "source": [
    "with profile(activities=[ProfilerActivity.CPU], record_shapes=True) as prof:\n",
    "    with record_function(\"model_inference\"):\n",
    "        model(inputs)"
   ]
  },
  {
   "cell_type": "code",
   "execution_count": 30,
   "metadata": {},
   "outputs": [
    {
     "name": "stdout",
     "output_type": "stream",
     "text": [
      "---------------------------------  ------------  ------------  ------------  ------------  ------------  ------------  \n",
      "                             Name    Self CPU %      Self CPU   CPU total %     CPU total  CPU time avg    # of Calls  \n",
      "---------------------------------  ------------  ------------  ------------  ------------  ------------  ------------  \n",
      "                  model_inference         2.06%     310.000us       100.00%      15.031ms      15.031ms             1  \n",
      "                          forward         3.35%     504.000us        97.94%      14.721ms      14.721ms             1  \n",
      "                quantized::conv2d        49.67%       7.466ms        52.85%       7.944ms      92.372us            86  \n",
      "                      aten::relu_        32.51%       4.886ms        32.51%       4.886ms     113.628us            43  \n",
      "                        aten::cat         1.58%     237.000us         3.18%     478.000us      79.667us             6  \n",
      "                   quantized::add         1.48%     223.000us         1.58%     238.000us      23.800us            10  \n",
      "                 aten::contiguous         0.03%       5.000us         1.56%     235.000us      18.077us            13  \n",
      "                      aten::clone         1.45%     218.000us         1.53%     230.000us     230.000us             1  \n",
      "    aten::_empty_affine_quantized         1.48%     223.000us         1.48%     223.000us       2.084us           107  \n",
      "        aten::quantize_per_tensor         1.36%     204.000us         1.36%     204.000us      68.000us             3  \n",
      "                        aten::mul         0.82%     124.000us         1.01%     152.000us      38.000us             4  \n",
      "                       aten::relu         0.70%     105.000us         0.79%     118.000us      11.800us            10  \n",
      "                    aten::softmax         0.03%       5.000us         0.59%      89.000us      89.000us             1  \n",
      "                   aten::_softmax         0.56%      84.000us         0.56%      84.000us      84.000us             1  \n",
      "                 aten::dequantize         0.45%      68.000us         0.52%      78.000us       5.571us            14  \n",
      "                      aten::empty         0.41%      62.000us         0.41%      62.000us       1.476us            42  \n",
      "                    aten::permute         0.31%      46.000us         0.37%      56.000us       4.667us            12  \n",
      "                        aten::div         0.28%      42.000us         0.31%      47.000us      47.000us             1  \n",
      "                     aten::narrow         0.13%      20.000us         0.27%      41.000us       6.833us             6  \n",
      "                        aten::add         0.27%      40.000us         0.27%      40.000us      20.000us             2  \n",
      "                       aten::view         0.25%      37.000us         0.25%      37.000us       3.083us            12  \n",
      "                      aten::slice         0.23%      34.000us         0.25%      37.000us       3.700us            10  \n",
      "                         aten::to         0.03%       5.000us         0.22%      33.000us      11.000us             3  \n",
      "                   aten::_to_copy         0.13%      19.000us         0.19%      28.000us       9.333us             3  \n",
      "                        aten::sub         0.13%      20.000us         0.13%      20.000us      20.000us             1  \n",
      "                        aten::exp         0.09%      14.000us         0.09%      14.000us      14.000us             1  \n",
      "                 aten::as_strided         0.09%      13.000us         0.09%      13.000us       0.591us            22  \n",
      "                      aten::copy_         0.05%       7.000us         0.05%       7.000us       2.333us             3  \n",
      "                    aten::q_scale         0.03%       4.000us         0.03%       4.000us       0.027us           149  \n",
      "                    aten::qscheme         0.01%       2.000us         0.01%       2.000us       0.025us            79  \n",
      "               aten::q_zero_point         0.01%       2.000us         0.01%       2.000us       0.010us           202  \n",
      "              aten::empty_strided         0.01%       2.000us         0.01%       2.000us       0.667us             3  \n",
      "---------------------------------  ------------  ------------  ------------  ------------  ------------  ------------  \n",
      "Self CPU time total: 15.031ms\n",
      "\n"
     ]
    }
   ],
   "source": [
    "print(prof.key_averages().table(sort_by=\"cpu_time_total\", row_limit=100))"
   ]
  },
  {
   "cell_type": "code",
   "execution_count": 23,
   "metadata": {},
   "outputs": [
    {
     "name": "stderr",
     "output_type": "stream",
     "text": [
      "STAGE:2024-11-20 10:19:14 75929:75929 ActivityProfilerController.cpp:314] Completed Stage: Warm Up\n",
      "STAGE:2024-11-20 10:19:14 75929:75929 ActivityProfilerController.cpp:320] Completed Stage: Collection\n",
      "STAGE:2024-11-20 10:19:14 75929:75929 ActivityProfilerController.cpp:324] Completed Stage: Post Processing\n"
     ]
    }
   ],
   "source": [
    "with profile(activities=[ProfilerActivity.CPU],\n",
    "        profile_memory=True, record_shapes=True) as prof:\n",
    "    model(inputs)"
   ]
  },
  {
   "cell_type": "code",
   "execution_count": 24,
   "metadata": {},
   "outputs": [
    {
     "name": "stdout",
     "output_type": "stream",
     "text": [
      "---------------------------------  ------------  ------------  ------------  ------------  ------------  ------------  ------------  ------------  \n",
      "                             Name    Self CPU %      Self CPU   CPU total %     CPU total  CPU time avg       CPU Mem  Self CPU Mem    # of Calls  \n",
      "---------------------------------  ------------  ------------  ------------  ------------  ------------  ------------  ------------  ------------  \n",
      "                      aten::empty         0.38%      59.000us         0.38%      59.000us       1.405us      13.74 Mb      13.74 Mb            42  \n",
      "    aten::_empty_affine_quantized         1.45%     227.000us         1.45%     227.000us       2.121us      13.57 Mb      13.57 Mb           107  \n",
      "        aten::quantize_per_tensor         0.89%     139.000us         0.89%     139.000us      46.333us     336.91 Kb     336.91 Kb             3  \n",
      "                   aten::_softmax         0.54%      85.000us         0.54%      85.000us      85.000us     246.09 Kb     246.09 Kb             1  \n",
      "                        aten::mul         0.59%      93.000us         0.77%     120.000us      30.000us      46.88 Kb      46.88 Kb             4  \n",
      "                        aten::sub         0.13%      21.000us         0.13%      21.000us      21.000us      23.44 Kb      23.44 Kb             1  \n",
      "                        aten::div         0.15%      24.000us         0.19%      30.000us      30.000us      23.44 Kb      23.43 Kb             1  \n",
      "                   aten::_to_copy         0.11%      18.000us         0.17%      27.000us       9.000us          12 b           8 b             3  \n",
      "              aten::empty_strided         0.02%       3.000us         0.02%       3.000us       1.000us           4 b           4 b             3  \n",
      "                 aten::contiguous         0.03%       5.000us         1.42%     223.000us      17.154us     263.67 Kb           0 b            13  \n",
      "                      aten::clone         1.34%     210.000us         1.39%     218.000us     218.000us     263.67 Kb           0 b             1  \n",
      "                    aten::qscheme         0.01%       1.000us         0.01%       1.000us       0.013us           0 b           0 b            79  \n",
      "               aten::q_zero_point         0.01%       1.000us         0.01%       1.000us       0.005us           0 b           0 b           202  \n",
      "                    aten::q_scale         0.02%       3.000us         0.02%       3.000us       0.020us           0 b           0 b           149  \n",
      "                      aten::relu_        35.00%       5.490ms        35.00%       5.490ms     127.674us           0 b           0 b            43  \n",
      "                    aten::permute         0.43%      67.000us         0.47%      74.000us       6.167us           0 b           0 b            12  \n",
      "                 aten::as_strided         0.06%       9.000us         0.06%       9.000us       0.409us           0 b           0 b            22  \n",
      "                       aten::view         0.23%      36.000us         0.23%      36.000us       3.000us           0 b           0 b            12  \n",
      "                     aten::narrow         0.10%      16.000us         0.17%      27.000us       4.500us           0 b           0 b             6  \n",
      "                      aten::slice         0.17%      27.000us         0.18%      29.000us       2.900us           0 b           0 b            10  \n",
      "                         aten::to         0.04%       6.000us         0.21%      33.000us      11.000us          12 b           0 b             3  \n",
      "                      aten::copy_         0.04%       6.000us         0.04%       6.000us       2.000us           0 b           0 b             3  \n",
      "                        aten::add         0.26%      40.000us         0.26%      40.000us      20.000us           0 b           0 b             2  \n",
      "                        aten::exp         0.10%      15.000us         0.10%      15.000us      15.000us           0 b           0 b             1  \n",
      "                 aten::dequantize         0.40%      63.000us         0.49%      77.000us       5.500us     512.70 Kb     -30.02 Kb            14  \n",
      "                    aten::softmax         0.03%       5.000us         0.57%      90.000us      90.000us           0 b    -246.09 Kb             1  \n",
      "                         [memory]         0.00%       0.000us         0.00%       0.000us       0.000us    -292.97 Kb    -292.97 Kb             2  \n",
      "                        aten::cat         1.36%     214.000us         2.58%     405.000us      67.500us     316.41 Kb    -342.77 Kb             6  \n",
      "                          forward         3.20%     502.000us       100.00%      15.686ms      15.686ms     292.97 Kb    -584.23 Kb             1  \n",
      "                       aten::relu         0.57%      90.000us         0.64%     100.000us      10.000us      17.00 Kb    -670.62 Kb            10  \n",
      "                   quantized::add         1.41%     221.000us         1.50%     235.000us      23.500us    -332.30 Kb    -687.17 Kb            10  \n",
      "                quantized::conv2d        50.94%       7.990ms        53.92%       8.458ms      98.349us     591.91 Kb     -25.18 Mb            86  \n",
      "---------------------------------  ------------  ------------  ------------  ------------  ------------  ------------  ------------  ------------  \n",
      "Self CPU time total: 15.686ms\n",
      "\n"
     ]
    }
   ],
   "source": [
    "print(prof.key_averages().table(sort_by=\"self_cpu_memory_usage\", row_limit=100))"
   ]
  }
 ],
 "metadata": {
  "kernelspec": {
   "display_name": "base",
   "language": "python",
   "name": "python3"
  },
  "language_info": {
   "codemirror_mode": {
    "name": "ipython",
    "version": 3
   },
   "file_extension": ".py",
   "mimetype": "text/x-python",
   "name": "python",
   "nbconvert_exporter": "python",
   "pygments_lexer": "ipython3",
   "version": "3.12.3"
  }
 },
 "nbformat": 4,
 "nbformat_minor": 2
}
